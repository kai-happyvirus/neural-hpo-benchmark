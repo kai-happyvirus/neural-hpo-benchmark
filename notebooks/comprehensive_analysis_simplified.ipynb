{
 "cells": [
  {
   "cell_type": "markdown",
   "id": "6ca4f8b3",
   "metadata": {},
   "source": [
    "# Hyperparameter Optimization Analysis: Comprehensive Results\n",
    "\n",
    "This notebook provides a complete analysis of hyperparameter optimization experiments comparing evolutionary algorithms (GA, DE, PSO) against traditional methods (Grid Search, Random Search) on MNIST and CIFAR-10 datasets.\n",
    "\n",
    "**Author:** Kai Cho  \n",
    "**Institution:** Auckland University of Technology  \n",
    "**Date:** October 2025\n",
    "\n",
    "## Project Overview\n",
    "\n",
    "This study evaluates three evolutionary algorithms against traditional hyperparameter optimization methods for neural network training. The analysis includes:\n",
    "\n",
    "- **Datasets**: MNIST (simple classification) and CIFAR-10 (complex image classification)\n",
    "- **Algorithms**: Genetic Algorithm (GA), Differential Evolution (DE), Particle Swarm Optimization (PSO), Grid Search, Random Search\n",
    "- **Metrics**: Validation accuracy, computational time, consistency analysis\n",
    "- **Hardware**: Apple M1 Pro, 32GB RAM, 16-core GPU"
   ]
  },
  {
   "cell_type": "markdown",
   "id": "5aea2438",
   "metadata": {},
   "source": [
    "## 1. Data Preprocessing and Setup\n",
    "\n",
    "### Import Required Libraries"
   ]
  },
  {
   "cell_type": "code",
   "execution_count": 1,
   "id": "b6795519",
   "metadata": {},
   "outputs": [
    {
     "name": "stdout",
     "output_type": "stream",
     "text": [
      " All libraries imported successfully!\n",
      " Plotting configuration set for publication-quality figures\n"
     ]
    }
   ],
   "source": [
    "import json\n",
    "import numpy as np\n",
    "import pandas as pd\n",
    "import matplotlib.pyplot as plt\n",
    "import seaborn as sns\n",
    "from pathlib import Path\n",
    "from scipy import stats\n",
    "import warnings\n",
    "\n",
    "# Configure plotting\n",
    "plt.style.use('seaborn-v0_8-paper')\n",
    "sns.set_palette(\"husl\")\n",
    "plt.rcParams['figure.dpi'] = 100\n",
    "plt.rcParams['savefig.dpi'] = 300\n",
    "plt.rcParams['font.size'] = 10\n",
    "plt.rcParams['axes.labelsize'] = 11\n",
    "plt.rcParams['axes.titlesize'] = 12\n",
    "\n",
    "# Suppress warnings for cleaner output\n",
    "warnings.filterwarnings('ignore')\n",
    "\n",
    "print(\" All libraries imported successfully!\")\n",
    "print(\" Plotting configuration set for publication-quality figures\")\n"
   ]
  },
  {
   "cell_type": "markdown",
   "id": "ecb1bede",
   "metadata": {},
   "source": [
    "### Load Experimental Results Data"
   ]
  },
  {
   "cell_type": "code",
   "execution_count": 2,
   "id": "490e0638",
   "metadata": {},
   "outputs": [
    {
     "name": "stdout",
     "output_type": "stream",
     "text": [
      "Loaded 5 MNIST algorithms, 5 CIFAR-10 algorithms\n"
     ]
    }
   ],
   "source": [
    "# Define the path to results directory\n",
    "results_dir = Path('../results')\n",
    "\n",
    "# Define result files for both datasets\n",
    "algorithm_files = {\n",
    "    'Grid': {'mnist': 'grid_mnist_20251021_011057.json', 'cifar10': 'grid_cifar10_20251021_050052.json'},\n",
    "    'Random': {'mnist': 'random_mnist_20251021_010819.json', 'cifar10': 'random_cifar10_20251021_041728.json'},\n",
    "    'GA': {'mnist': 'ga_mnist_20251021_101942.json', 'cifar10': 'ga_cifar10_20251022_073914.json'},\n",
    "    'PSO': {'mnist': 'pso_mnist_20251021_181551.json', 'cifar10': 'pso_cifar10_20251022_164435.json'},\n",
    "    'DE': {'mnist': 'de_mnist_20251021_152823.json', 'cifar10': 'de_cifar10_20251022_210512.json'}\n",
    "}\n",
    "\n",
    "# Load results\n",
    "def load_results(dataset):\n",
    "    data = {}\n",
    "    for algo, files in algorithm_files.items():\n",
    "        filepath = results_dir / files[dataset]\n",
    "        if filepath.exists():\n",
    "            with open(filepath) as f:\n",
    "                data[algo] = json.load(f)\n",
    "    return data\n",
    "\n",
    "mnist_data = load_results('mnist')\n",
    "cifar10_data = load_results('cifar10')\n",
    "\n",
    "print(f\"Loaded {len(mnist_data)} MNIST algorithms, {len(cifar10_data)} CIFAR-10 algorithms\")\n"
   ]
  },
  {
   "cell_type": "markdown",
   "id": "1967c2f6",
   "metadata": {},
   "source": [
    "## 2. Numerical Computation Implementation\n",
    "\n",
    "### Statistical Analysis Functions"
   ]
  },
  {
   "cell_type": "code",
   "execution_count": 3,
   "id": "7173c2a5",
   "metadata": {},
   "outputs": [
    {
     "name": "stdout",
     "output_type": "stream",
     "text": [
      "Statistics calculated for both datasets\n"
     ]
    }
   ],
   "source": [
    "# Calculate statistics for each algorithm\n",
    "mnist_stats = {}\n",
    "cifar10_stats = {}\n",
    "\n",
    "for dataset_name, data, stats_dict in [('MNIST', mnist_data, mnist_stats), \n",
    "                                        ('CIFAR-10', cifar10_data, cifar10_stats)]:\n",
    "    for algo, algo_data in data.items():\n",
    "        accuracies = [run['best_fitness'] for run in algo_data['runs']]\n",
    "        times = [run['time_seconds'] / 3600 for run in algo_data['runs']]\n",
    "        \n",
    "        stats_dict[algo] = {\n",
    "            'accuracies': accuracies,\n",
    "            'mean': np.mean(accuracies),\n",
    "            'std': np.std(accuracies),\n",
    "            'sem': stats.sem(accuracies),\n",
    "            'min': np.min(accuracies),\n",
    "            'max': np.max(accuracies),\n",
    "            'avg_time': np.mean(times)\n",
    "        }\n",
    "        \n",
    "        # 95% confidence interval\n",
    "        ci_margin = 1.96 * stats_dict[algo]['sem']\n",
    "        stats_dict[algo]['ci_lower'] = stats_dict[algo]['mean'] - ci_margin\n",
    "        stats_dict[algo]['ci_upper'] = stats_dict[algo]['mean'] + ci_margin\n",
    "\n",
    "print(\"Statistics calculated for both datasets\")\n"
   ]
  },
  {
   "cell_type": "markdown",
   "id": "8878d471",
   "metadata": {},
   "source": [
    "## 3. Results Generation and Analysis\n",
    "\n",
    "### Performance Summary Tables"
   ]
  },
  {
   "cell_type": "code",
   "execution_count": 4,
   "id": "0e03b54d",
   "metadata": {},
   "outputs": [
    {
     "name": "stdout",
     "output_type": "stream",
     "text": [
      "\n",
      "MNIST Performance Summary\n",
      "================================================================================\n",
      "1. DE       Mean: 98.39% ± 0.01%  Range: [98.38, 98.40]  Time: 4.4h\n",
      "2. GA       Mean: 98.32% ± 0.02%  Range: [98.29, 98.34]  Time: 3.3h\n",
      "3. Grid     Mean: 98.26% ± 0.02%  Range: [98.22, 98.28]  Time: 1.3h\n",
      "4. PSO      Mean: 98.23% ± 0.07%  Range: [98.14, 98.30]  Time: 3.5h\n",
      "5. Random   Mean: 98.06% ± 0.23%  Range: [97.75, 98.28]  Time: 1.3h\n",
      "\n",
      "CIFAR-10 Performance Summary\n",
      "================================================================================\n",
      "1. DE       Mean: 82.35% ± 0.32%  Range: [81.90, 82.62]  Time: 8.8h\n",
      "2. Random   Mean: 78.89% ± 0.58%  Range: [78.25, 79.66]  Time: 2.3h\n",
      "3. PSO      Mean: 78.41% ± 1.48%  Range: [77.31, 80.51]  Time: 7.4h\n",
      "4. GA       Mean: 78.08% ± 0.96%  Range: [76.74, 78.93]  Time: 7.9h\n",
      "5. Grid     Mean: 75.69% ± 0.16%  Range: [75.57, 75.92]  Time: 2.6h\n"
     ]
    }
   ],
   "source": [
    "# Performance summary tables\n",
    "for dataset_name, stats_dict in [('MNIST', mnist_stats), ('CIFAR-10', cifar10_stats)]:\n",
    "    print(f\"\\n{dataset_name} Performance Summary\")\n",
    "    print(\"=\" * 80)\n",
    "    \n",
    "    sorted_algos = sorted(stats_dict.items(), key=lambda x: x[1]['mean'], reverse=True)\n",
    "    \n",
    "    for rank, (algo, s) in enumerate(sorted_algos, 1):\n",
    "        print(f\"{rank}. {algo:8} Mean: {s['mean']:.2f}% ± {s['std']:.2f}%  \"\n",
    "              f\"Range: [{s['min']:.2f}, {s['max']:.2f}]  Time: {s['avg_time']:.1f}h\")\n"
   ]
  },
  {
   "cell_type": "markdown",
   "id": "68c8a783",
   "metadata": {},
   "source": [
    "### Report-Ready Summary Table (Table 2 Format)"
   ]
  },
  {
   "cell_type": "code",
   "execution_count": 5,
   "id": "d38c564c",
   "metadata": {},
   "outputs": [
    {
     "name": "stdout",
     "output_type": "stream",
     "text": [
      "\n",
      "======================================================================\n",
      "TABLE 2: Performance Comparison\n",
      "======================================================================\n",
      "Algorithm    MNIST                CIFAR-10             Avg Time (h)   \n",
      "----------------------------------------------------------------------\n",
      "Grid         98.26±0.02%          75.69±0.16%          1.9            \n",
      "Random       98.06±0.23%          78.89±0.58%          1.8            \n",
      "GA           98.32±0.02%          78.08±0.96%          5.6            \n",
      "PSO          98.23±0.07%          78.41±1.48%          5.4            \n",
      "DE           98.39±0.01%          82.35±0.32%          6.6            \n",
      "======================================================================\n"
     ]
    }
   ],
   "source": [
    "# Table 2: Report-ready performance comparison\n",
    "print(\"\\n\" + \"=\" * 70)\n",
    "print(\"TABLE 2: Performance Comparison\")\n",
    "print(\"=\" * 70)\n",
    "print(f\"{'Algorithm':<12} {'MNIST':<20} {'CIFAR-10':<20} {'Avg Time (h)':<15}\")\n",
    "print(\"-\" * 70)\n",
    "\n",
    "for algo in ['Grid', 'Random', 'GA', 'PSO', 'DE']:\n",
    "    mnist_str = f\"{mnist_stats[algo]['mean']:.2f}±{mnist_stats[algo]['std']:.2f}%\" if algo in mnist_stats else 'N/A'\n",
    "    cifar_str = f\"{cifar10_stats[algo]['mean']:.2f}±{cifar10_stats[algo]['std']:.2f}%\" if algo in cifar10_stats else 'N/A'\n",
    "    \n",
    "    avg_time = 0\n",
    "    count = 0\n",
    "    if algo in mnist_stats:\n",
    "        avg_time += mnist_stats[algo]['avg_time']\n",
    "        count += 1\n",
    "    if algo in cifar10_stats:\n",
    "        avg_time += cifar10_stats[algo]['avg_time']\n",
    "        count += 1\n",
    "    avg_time = avg_time / count if count > 0 else 0\n",
    "    \n",
    "    print(f\"{algo:<12} {mnist_str:<20} {cifar_str:<20} {avg_time:<15.1f}\")\n",
    "\n",
    "print(\"=\" * 70)\n"
   ]
  },
  {
   "cell_type": "markdown",
   "id": "4e7a0d25",
   "metadata": {},
   "source": [
    "## 5. Statistical Summary Generation\n",
    "\n",
    "### Comprehensive Statistical Analysis"
   ]
  },
  {
   "cell_type": "code",
   "execution_count": 6,
   "id": "afacf9db",
   "metadata": {},
   "outputs": [
    {
     "name": "stdout",
     "output_type": "stream",
     "text": [
      "STATISTICAL SUMMARY\n",
      "======================================================================\n",
      "\n",
      "MNIST Rankings:\n",
      "  1. DE: 98.39% ± 0.01%\n",
      "  2. GA: 98.32% ± 0.02%\n",
      "  3. Grid: 98.26% ± 0.02%\n",
      "  4. PSO: 98.23% ± 0.07%\n",
      "  5. Random: 98.06% ± 0.23%\n",
      "\n",
      "CIFAR-10 Rankings:\n",
      "  1. DE: 82.35% ± 0.32%\n",
      "  2. Random: 78.89% ± 0.58%\n",
      "  3. PSO: 78.41% ± 1.48%\n",
      "  4. GA: 78.08% ± 0.96%\n",
      "  5. Grid: 75.69% ± 0.16%\n",
      "\n",
      "Pairwise t-tests:\n",
      "\n",
      "MNIST:\n",
      "  Grid vs Random: p=0.2936 ns\n",
      "  Grid vs GA: p=0.0610 ns\n",
      "  Grid vs PSO: p=0.6463 ns\n",
      "  Grid vs DE: p=0.0025 **\n",
      "  Random vs GA: p=0.1908 ns\n",
      "  Random vs PSO: p=0.3674 ns\n",
      "  Random vs DE: p=0.1146 ns\n",
      "  GA vs PSO: p=0.1678 ns\n",
      "  GA vs DE: p=0.0128 *\n",
      "  PSO vs DE: p=0.0333 *\n",
      "\n",
      "CIFAR-10:\n",
      "  Grid vs Random: p=0.0017 **\n",
      "  Grid vs GA: p=0.0255 *\n",
      "  Grid vs PSO: p=0.0613 ns\n",
      "  Grid vs DE: p=0.0000 ***\n",
      "  Random vs GA: p=0.3655 ns\n",
      "  Random vs PSO: p=0.6920 ns\n",
      "  Random vs DE: p=0.0018 **\n",
      "  GA vs PSO: p=0.8048 ns\n",
      "  GA vs DE: p=0.0040 **\n",
      "  PSO vs DE: p=0.0214 *\n"
     ]
    }
   ],
   "source": [
    "# Statistical summary\n",
    "print(\"STATISTICAL SUMMARY\")\n",
    "print(\"=\" * 70)\n",
    "\n",
    "# Performance rankings\n",
    "for dataset_name, stats_dict in [('MNIST', mnist_stats), ('CIFAR-10', cifar10_stats)]:\n",
    "    ranked = sorted(stats_dict.items(), key=lambda x: x[1]['mean'], reverse=True)\n",
    "    print(f\"\\n{dataset_name} Rankings:\")\n",
    "    for rank, (algo, s) in enumerate(ranked, 1):\n",
    "        print(f\"  {rank}. {algo}: {s['mean']:.2f}% ± {s['std']:.2f}%\")\n",
    "\n",
    "# Statistical significance tests\n",
    "print(f\"\\nPairwise t-tests:\")\n",
    "for dataset_name, stats_dict in [('MNIST', mnist_stats), ('CIFAR-10', cifar10_stats)]:\n",
    "    print(f\"\\n{dataset_name}:\")\n",
    "    algos = list(stats_dict.keys())\n",
    "    for i in range(len(algos)):\n",
    "        for j in range(i+1, len(algos)):\n",
    "            algo1, algo2 = algos[i], algos[j]\n",
    "            data1 = stats_dict[algo1]['accuracies']\n",
    "            data2 = stats_dict[algo2]['accuracies']\n",
    "            t_stat, p_value = stats.ttest_ind(data1, data2)\n",
    "            sig = \"***\" if p_value < 0.001 else \"**\" if p_value < 0.01 else \"*\" if p_value < 0.05 else \"ns\"\n",
    "            print(f\"  {algo1} vs {algo2}: p={p_value:.4f} {sig}\")\n"
   ]
  },
  {
   "cell_type": "markdown",
   "id": "dae527b3",
   "metadata": {},
   "source": [
    "## 6. Graphical Results Presentation\n",
    "\n",
    "### Performance Visualization"
   ]
  },
  {
   "cell_type": "code",
   "execution_count": 13,
   "id": "b6107cdc",
   "metadata": {},
   "outputs": [
    {
     "data": {
      "image/png": "[encoded data removed]",
      "text/plain": [
       "<Figure size 1400x500 with 2 Axes>"
      ]
     },
     "metadata": {},
     "output_type": "display_data"
    },
    {
     "name": "stdout",
     "output_type": "stream",
     "text": [
      "Figure saved: figures/performance_boxplots.png\n"
     ]
    }
   ],
   "source": [
    "# Figure 2: Performance box plots\n",
    "colors = {'Grid': '#3498db', 'Random': '#e74c3c', 'GA': '#2ecc71', 'PSO': '#f39c12', 'DE': '#9b59b6'}\n",
    "\n",
    "fig, (ax1, ax2) = plt.subplots(1, 2, figsize=(14, 5))\n",
    "\n",
    "# MNIST\n",
    "mnist_results = []\n",
    "mnist_labels = []\n",
    "for algo in ['Grid', 'Random', 'GA', 'PSO', 'DE']:\n",
    "    if algo in mnist_data:\n",
    "        mnist_results.append([run['best_fitness'] for run in mnist_data[algo]['runs']])\n",
    "        mnist_labels.append(algo)\n",
    "\n",
    "bp1 = ax1.boxplot(mnist_results, labels=mnist_labels, patch_artist=True, \n",
    "                   showmeans=True, meanline=False, widths=0.6)\n",
    "for patch, algo in zip(bp1['boxes'], mnist_labels):\n",
    "    patch.set_facecolor(colors[algo])\n",
    "    patch.set_alpha(0.7)\n",
    "    patch.set_edgecolor('black')\n",
    "    patch.set_linewidth(1.5)\n",
    "\n",
    "# Style the boxplot elements\n",
    "for whisker in bp1['whiskers']:\n",
    "    whisker.set(color='black', linewidth=1.5)\n",
    "for cap in bp1['caps']:\n",
    "    cap.set(color='black', linewidth=1.5)\n",
    "for median in bp1['medians']:\n",
    "    median.set(color='darkred', linewidth=2)\n",
    "for mean in bp1['means']:\n",
    "    mean.set(marker='D', markerfacecolor='red', markeredgecolor='darkred', markersize=6)\n",
    "\n",
    "ax1.set_ylabel('Validation Accuracy (%)')\n",
    "ax1.set_xlabel('Algorithm')\n",
    "ax1.set_title('MNIST Performance Distribution')\n",
    "ax1.grid(axis='y', alpha=0.3)\n",
    "\n",
    "# CIFAR-10\n",
    "cifar10_results = []\n",
    "cifar10_labels = []\n",
    "for algo in ['Grid', 'Random', 'GA', 'PSO', 'DE']:\n",
    "    if algo in cifar10_data:\n",
    "        cifar10_results.append([run['best_fitness'] for run in cifar10_data[algo]['runs']])\n",
    "        cifar10_labels.append(algo)\n",
    "\n",
    "bp2 = ax2.boxplot(cifar10_results, labels=cifar10_labels, patch_artist=True, \n",
    "                   showmeans=True, meanline=False, widths=0.6)\n",
    "for patch, algo in zip(bp2['boxes'], cifar10_labels):\n",
    "    patch.set_facecolor(colors[algo])\n",
    "    patch.set_alpha(0.7)\n",
    "    patch.set_edgecolor('black')\n",
    "    patch.set_linewidth(1.5)\n",
    "\n",
    "# Style the boxplot elements\n",
    "for whisker in bp2['whiskers']:\n",
    "    whisker.set(color='black', linewidth=1.5)\n",
    "for cap in bp2['caps']:\n",
    "    cap.set(color='black', linewidth=1.5)\n",
    "for median in bp2['medians']:\n",
    "    median.set(color='darkred', linewidth=2)\n",
    "for mean in bp2['means']:\n",
    "    mean.set(marker='D', markerfacecolor='red', markeredgecolor='darkred', markersize=6)\n",
    "\n",
    "ax2.set_ylabel('Validation Accuracy (%)')\n",
    "ax2.set_xlabel('Algorithm')\n",
    "ax2.set_title('CIFAR-10 Performance Distribution')\n",
    "ax2.grid(axis='y', alpha=0.3)\n",
    "\n",
    "plt.tight_layout()\n",
    "plt.savefig('../figures/performance_boxplots.png', dpi=300, bbox_inches='tight')\n",
    "plt.show()\n",
    "\n",
    "print(\"Figure saved: figures/performance_boxplots.png\")\n"
   ]
  },
  {
   "cell_type": "markdown",
   "id": "7215d9d5",
   "metadata": {},
   "source": [
    "### Convergence Curve Analysis\n",
    "\n",
    "Visualization of algorithm convergence behavior across generations/iterations."
   ]
  },
  {
   "cell_type": "code",
   "execution_count": 8,
   "id": "4b7eae6b",
   "metadata": {},
   "outputs": [
    {
     "data": {
      "image/png": "[encoded data removed]",
      "text/plain": [
       "<Figure size 1400x500 with 2 Axes>"
      ]
     },
     "metadata": {},
     "output_type": "display_data"
    },
    {
     "name": "stdout",
     "output_type": "stream",
     "text": [
      "Figure saved: figures/convergence_curves.png\n"
     ]
    }
   ],
   "source": [
    "# Figure 3: Convergence curves\n",
    "evolutionary_algos = ['GA', 'PSO', 'DE']\n",
    "colors = {'GA': '#2ecc71', 'PSO': '#f39c12', 'DE': '#9b59b6'}\n",
    "\n",
    "fig, (ax1, ax2) = plt.subplots(1, 2, figsize=(14, 5))\n",
    "\n",
    "# MNIST\n",
    "for algo in evolutionary_algos:\n",
    "    if algo in mnist_data and 'evaluation_history' in mnist_data[algo]['runs'][0]:\n",
    "        all_histories = []\n",
    "        for run in mnist_data[algo]['runs']:\n",
    "            history = run['evaluation_history']\n",
    "            if isinstance(history[0], dict):\n",
    "                history = [h['fitness'] if isinstance(h, dict) else h for h in history]\n",
    "            all_histories.append(history)\n",
    "        \n",
    "        max_len = max(len(h) for h in all_histories)\n",
    "        mean_history = [np.mean([h[i] if i < len(h) else h[-1] for h in all_histories]) for i in range(max_len)]\n",
    "        std_history = [np.std([h[i] if i < len(h) else h[-1] for h in all_histories]) for i in range(max_len)]\n",
    "        \n",
    "        x = range(1, len(mean_history) + 1)\n",
    "        ax1.plot(x, mean_history, label=algo, color=colors[algo], linewidth=2, marker='o', markersize=4)\n",
    "        ax1.fill_between(x, np.array(mean_history) - np.array(std_history), \n",
    "                         np.array(mean_history) + np.array(std_history), alpha=0.2, color=colors[algo])\n",
    "\n",
    "ax1.set_xlabel('Evaluation Number')\n",
    "ax1.set_ylabel('Best Fitness (%)')\n",
    "ax1.set_title('MNIST: Convergence Curves')\n",
    "ax1.legend(loc='lower right')\n",
    "ax1.grid(True, alpha=0.3)\n",
    "\n",
    "# CIFAR-10\n",
    "for algo in evolutionary_algos:\n",
    "    if algo in cifar10_data and 'evaluation_history' in cifar10_data[algo]['runs'][0]:\n",
    "        all_histories = []\n",
    "        for run in cifar10_data[algo]['runs']:\n",
    "            history = run['evaluation_history']\n",
    "            if isinstance(history[0], dict):\n",
    "                history = [h['fitness'] if isinstance(h, dict) else h for h in history]\n",
    "            all_histories.append(history)\n",
    "        \n",
    "        max_len = max(len(h) for h in all_histories)\n",
    "        mean_history = [np.mean([h[i] if i < len(h) else h[-1] for h in all_histories]) for i in range(max_len)]\n",
    "        std_history = [np.std([h[i] if i < len(h) else h[-1] for h in all_histories]) for i in range(max_len)]\n",
    "        \n",
    "        x = range(1, len(mean_history) + 1)\n",
    "        ax2.plot(x, mean_history, label=algo, color=colors[algo], linewidth=2, marker='o', markersize=4)\n",
    "        ax2.fill_between(x, np.array(mean_history) - np.array(std_history), \n",
    "                         np.array(mean_history) + np.array(std_history), alpha=0.2, color=colors[algo])\n",
    "\n",
    "ax2.set_xlabel('Evaluation Number')\n",
    "ax2.set_ylabel('Best Fitness (%)')\n",
    "ax2.set_title('CIFAR-10: Convergence Curves')\n",
    "ax2.legend(loc='lower right')\n",
    "ax2.grid(True, alpha=0.3)\n",
    "\n",
    "plt.tight_layout()\n",
    "plt.savefig('../figures/convergence_curves.png', dpi=300, bbox_inches='tight')\n",
    "plt.show()\n",
    "\n",
    "print(\"Figure saved: figures/convergence_curves.png\")\n"
   ]
  },
  {
   "cell_type": "markdown",
   "id": "45a47082",
   "metadata": {},
   "source": [
    "## 7. Statistical Significance Testing\n",
    "\n",
    "Pairwise t-tests, ANOVA, and effect size calculations to validate performance differences.\n"
   ]
  },
  {
   "cell_type": "code",
   "execution_count": 9,
   "id": "19bf10c3",
   "metadata": {},
   "outputs": [
    {
     "name": "stdout",
     "output_type": "stream",
     "text": [
      "STATISTICAL SIGNIFICANCE TESTS\n",
      "======================================================================\n",
      "Legend: *** p<0.001, ** p<0.01, * p<0.05, ns p≥0.10\n"
     ]
    }
   ],
   "source": [
    "from scipy.stats import f_oneway, ttest_rel, levene\n",
    "\n",
    "# Cohen's d effect size\n",
    "def cohens_d(group1, group2):\n",
    "    mean1, mean2 = np.mean(group1), np.mean(group2)\n",
    "    std1, std2 = np.std(group1, ddof=1), np.std(group2, ddof=1)\n",
    "    n1, n2 = len(group1), len(group2)\n",
    "    pooled_std = np.sqrt(((n1-1)*std1**2 + (n2-1)*std2**2) / (n1 + n2 - 2))\n",
    "    return (mean2 - mean1) / pooled_std if pooled_std > 0 else 0\n",
    "\n",
    "print(\"STATISTICAL SIGNIFICANCE TESTS\")\n",
    "print(\"=\" * 70)\n",
    "print(\"Legend: *** p<0.001, ** p<0.01, * p<0.05, ns p≥0.10\")\n"
   ]
  },
  {
   "cell_type": "markdown",
   "id": "3b968e14",
   "metadata": {},
   "source": [
    "### Pairwise Comparisons (Paired t-tests)\n"
   ]
  },
  {
   "cell_type": "code",
   "execution_count": 10,
   "id": "ce9296d7",
   "metadata": {},
   "outputs": [
    {
     "name": "stdout",
     "output_type": "stream",
     "text": [
      "\n",
      "MNIST:\n",
      "----------------------------------------------------------------------\n",
      "  DE vs Grid: diff=+0.13%, t=8.26, p=0.0143 *, d=5.54 (large)\n",
      "  DE vs Random: diff=+0.32%, t=2.07, p=0.1742 ns, d=1.64 (large)\n",
      "  GA vs Grid: diff=+0.06%, t=2.29, p=0.1490 ns, d=2.11 (large)\n",
      "  GA vs Random: diff=+0.25%, t=1.48, p=0.2777 ns, d=1.28 (large)\n",
      "  PSO vs Grid: diff=-0.02%, t=-0.40, p=0.7302 ns, d=-0.40 (small)\n",
      "  PSO vs Random: diff=+0.17%, t=1.00, p=0.4240 ns, d=0.83 (large)\n",
      "\n",
      "CIFAR-10:\n",
      "----------------------------------------------------------------------\n",
      "  DE vs Grid: diff=+6.66%, t=36.98, p=0.0007 ***, d=21.41 (large)\n",
      "  DE vs Random: diff=+3.46%, t=11.56, p=0.0074 **, d=6.01 (large)\n",
      "  GA vs Grid: diff=+2.39%, t=3.69, p=0.0663 ns, d=2.84 (large)\n",
      "  GA vs Random: diff=-0.81%, t=-0.75, p=0.5330 ns, d=-0.83 (large)\n",
      "  PSO vs Grid: diff=+2.72%, t=2.46, p=0.1328 ns, d=2.11 (large)\n",
      "  PSO vs Random: diff=-0.48%, t=-0.71, p=0.5510 ns, d=-0.35 (small)\n"
     ]
    }
   ],
   "source": [
    "# Extract scores\n",
    "algorithms = ['Grid', 'Random', 'GA', 'PSO', 'DE']\n",
    "scores = {\n",
    "    'MNIST': {algo: [run['best_fitness'] for run in mnist_data[algo]['runs']] for algo in algorithms if algo in mnist_data},\n",
    "    'CIFAR-10': {algo: [run['best_fitness'] for run in cifar10_data[algo]['runs']] for algo in algorithms if algo in cifar10_data}\n",
    "}\n",
    "\n",
    "# Pairwise t-tests: evolutionary vs traditional\n",
    "comparisons = [('DE', 'Grid'), ('DE', 'Random'), ('GA', 'Grid'), ('GA', 'Random'), ('PSO', 'Grid'), ('PSO', 'Random')]\n",
    "\n",
    "for dataset in ['MNIST', 'CIFAR-10']:\n",
    "    print(f\"\\n{dataset}:\")\n",
    "    print(\"-\" * 70)\n",
    "    \n",
    "    for algo1, algo2 in comparisons:\n",
    "        group1, group2 = scores[dataset][algo1], scores[dataset][algo2]\n",
    "        t_stat, p_value = ttest_rel(group1, group2)\n",
    "        d = cohens_d(group2, group1)\n",
    "        mean_diff = np.mean(group1) - np.mean(group2)\n",
    "        \n",
    "        sig = \"***\" if p_value < 0.001 else \"**\" if p_value < 0.01 else \"*\" if p_value < 0.05 else \"ns\"\n",
    "        effect = \"large\" if abs(d) >= 0.8 else \"medium\" if abs(d) >= 0.5 else \"small\" if abs(d) >= 0.2 else \"negligible\"\n",
    "        \n",
    "        print(f\"  {algo1} vs {algo2}: diff={mean_diff:+.2f}%, t={t_stat:.2f}, p={p_value:.4f} {sig}, d={d:.2f} ({effect})\")\n"
   ]
  },
  {
   "cell_type": "markdown",
   "id": "e02dccc1",
   "metadata": {},
   "source": [
    "### One-Way ANOVA\n"
   ]
  },
  {
   "cell_type": "code",
   "execution_count": 11,
   "id": "09f72a4e",
   "metadata": {},
   "outputs": [
    {
     "name": "stdout",
     "output_type": "stream",
     "text": [
      "\n",
      "MNIST:\n",
      "----------------------------------------------------------------------\n",
      "  F-statistic: 2.5486, p-value: 0.104927 ns\n",
      "  Result: No significant differences\n",
      "  Levene's test: F=1.4216, p=0.2961\n",
      "\n",
      "CIFAR-10:\n",
      "----------------------------------------------------------------------\n",
      "  F-statistic: 15.9309, p-value: 0.000244 ***\n",
      "  Result: Significant differences exist\n",
      "  Levene's test: F=0.5019, p=0.7355\n"
     ]
    }
   ],
   "source": [
    "# One-way ANOVA to test overall differences\n",
    "for dataset in ['MNIST', 'CIFAR-10']:\n",
    "    print(f\"\\n{dataset}:\")\n",
    "    print(\"-\" * 70)\n",
    "    \n",
    "    groups = [scores[dataset][algo] for algo in algorithms]\n",
    "    f_stat, p_value = f_oneway(*groups)\n",
    "    sig = \"***\" if p_value < 0.001 else \"**\" if p_value < 0.01 else \"*\" if p_value < 0.05 else \"ns\"\n",
    "    \n",
    "    print(f\"  F-statistic: {f_stat:.4f}, p-value: {p_value:.6f} {sig}\")\n",
    "    print(f\"  Result: {'Significant differences exist' if p_value < 0.05 else 'No significant differences'}\")\n",
    "    \n",
    "    # Levene's test for variance homogeneity\n",
    "    levene_stat, levene_p = levene(*groups)\n",
    "    print(f\"  Levene's test: F={levene_stat:.4f}, p={levene_p:.4f}\")\n",
    "    if levene_p < 0.05:\n",
    "        print(f\"    Note: Variances differ significantly\")\n"
   ]
  }
 ],
 "metadata": {
  "kernelspec": {
   "display_name": ".venv",
   "language": "python",
   "name": "python3"
  },
  "language_info": {
   "codemirror_mode": {
    "name": "ipython",
    "version": 3
   },
   "file_extension": ".py",
   "mimetype": "text/x-python",
   "name": "python",
   "nbconvert_exporter": "python",
   "pygments_lexer": "ipython3",
   "version": "3.12.9"
  }
 },
 "nbformat": 4,
 "nbformat_minor": 5
}
