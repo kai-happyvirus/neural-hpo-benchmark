{
 "cells": [
  {
   "cell_type": "markdown",
   "id": "940193d2",
   "metadata": {},
   "source": [
    "# Video Demo: Quick Experiment Runner\n",
    "\n",
    "Run actual algorithms with reduced parameters for fast demonstration"
   ]
  },
  {
   "cell_type": "code",
   "execution_count": 7,
   "id": "f7afd30a",
   "metadata": {},
   "outputs": [
    {
     "name": "stdout",
     "output_type": "stream",
     "text": [
      "Working directory: /Users/kaicho/Projects/COMP815_NIP/Project_Report\n",
      "Demo results directory: results/demo\n",
      "✓ Found hpo_experiment.py\n"
     ]
    }
   ],
   "source": [
    "import subprocess\n",
    "import sys\n",
    "import os\n",
    "import time\n",
    "from pathlib import Path\n",
    "\n",
    "# Change to project root (parent of notebooks)\n",
    "notebook_dir = Path.cwd()\n",
    "if notebook_dir.name == 'notebooks':\n",
    "    os.chdir('..')\n",
    "\n",
    "print(f\"Working directory: {os.getcwd()}\")\n",
    "\n",
    "# Ensure demo results directory exists\n",
    "DEMO_OUTPUT_DIR = Path('results/demo')\n",
    "DEMO_OUTPUT_DIR.mkdir(parents=True, exist_ok=True)\n",
    "print(f\"Demo results directory: {DEMO_OUTPUT_DIR}\")\n",
    "\n",
    "# Verify hpo_experiment.py exists\n",
    "if not Path('hpo_experiment.py').exists():\n",
    "    print(\"ERROR: hpo_experiment.py not found!\")\n",
    "else:\n",
    "    print(\"✓ Found hpo_experiment.py\")"
   ]
  },
  {
   "cell_type": "markdown",
   "id": "ea450a3c",
   "metadata": {},
   "source": [
    "## Run Quick Experiments\n",
    "\n",
    "Ultra-fast parameters for demo (~1 minute total):\n",
    "- Runs: 1 (single run only)\n",
    "- Evaluations: 1 (one test only)\n",
    "- Epochs: 3 (minimal training)\n",
    "- Results saved to: results/demo/"
   ]
  },
  {
   "cell_type": "markdown",
   "id": "82eccf50",
   "metadata": {},
   "source": [
    "## Run All Algorithms - MNIST\n",
    "\n",
    "Quick demonstration on MNIST (simpler dataset, faster training)"
   ]
  },
  {
   "cell_type": "markdown",
   "id": "2a852fc2",
   "metadata": {},
   "source": [
    "### 1. Grid Search"
   ]
  },
  {
   "cell_type": "code",
   "execution_count": 8,
   "id": "92141340",
   "metadata": {},
   "outputs": [
    {
     "name": "stdout",
     "output_type": "stream",
     "text": [
      "Running Grid Search on MNIST...\n",
      "Completed in 15.8 seconds (0.3 minutes)\n"
     ]
    }
   ],
   "source": [
    "# Run Grid Search on MNIST\n",
    "print(\"Running Grid Search on MNIST...\")\n",
    "start_time = time.time()\n",
    "\n",
    "try:\n",
    "    result = subprocess.run([\n",
    "        sys.executable, 'hpo_experiment.py',\n",
    "        '--algorithm', 'grid',\n",
    "        '--dataset', 'mnist',\n",
    "        '--runs', '1',\n",
    "        '--evaluations', '1',\n",
    "        '--epochs', '3',\n",
    "        '--output-dir', 'results/demo'\n",
    "    ], capture_output=True, text=True, check=True)\n",
    "    \n",
    "    duration = time.time() - start_time\n",
    "    print(f\"Completed in {duration:.1f} seconds ({duration/60:.1f} minutes)\")\n",
    "    \n",
    "except Exception as e:\n",
    "    print(f\"Failed: {e}\")"
   ]
  },
  {
   "cell_type": "markdown",
   "id": "b96fc4e3",
   "metadata": {},
   "source": [
    "### 2. Random Search"
   ]
  },
  {
   "cell_type": "code",
   "execution_count": 9,
   "id": "1ddcf40e",
   "metadata": {},
   "outputs": [
    {
     "name": "stdout",
     "output_type": "stream",
     "text": [
      "Running Random Search on MNIST...\n",
      "Completed in 21.8 seconds (0.4 minutes)\n"
     ]
    }
   ],
   "source": [
    "# Run Random Search on MNIST\n",
    "print(\"Running Random Search on MNIST...\")\n",
    "start_time = time.time()\n",
    "\n",
    "try:\n",
    "    result = subprocess.run([\n",
    "        sys.executable, 'hpo_experiment.py',\n",
    "        '--algorithm', 'random',\n",
    "        '--dataset', 'mnist',\n",
    "        '--runs', '1',\n",
    "        '--evaluations', '1',\n",
    "        '--epochs', '3',\n",
    "        '--output-dir', 'results/demo'\n",
    "    ], capture_output=True, text=True, check=True)\n",
    "    \n",
    "    duration = time.time() - start_time\n",
    "    print(f\"Completed in {duration:.1f} seconds ({duration/60:.1f} minutes)\")\n",
    "    \n",
    "except Exception as e:\n",
    "    print(f\"Failed: {e}\")"
   ]
  },
  {
   "cell_type": "markdown",
   "id": "00549d4e",
   "metadata": {},
   "source": [
    "### 3. Genetic Algorithm"
   ]
  },
  {
   "cell_type": "code",
   "execution_count": null,
   "id": "2753591c",
   "metadata": {},
   "outputs": [
    {
     "name": "stdout",
     "output_type": "stream",
     "text": [
      "Running Genetic Algorithm on MNIST...\n",
      "Completed in 66.4 seconds (1.1 minutes)\n",
      "Completed in 66.4 seconds (1.1 minutes)\n"
     ]
    }
   ],
   "source": [
    "# Run Genetic Algorithm on MNIST\n",
    "print(\"Running Genetic Algorithm on MNIST...\")\n",
    "start_time = time.time()\n",
    "\n",
    "try:\n",
    "    result = subprocess.run([\n",
    "        sys.executable, 'hpo_experiment.py',\n",
    "        '--algorithm', 'ga',\n",
    "        '--dataset', 'mnist',\n",
    "        '--runs', '1',\n",
    "        '--evaluations', '1',\n",
    "        '--epochs', '3',\n",
    "        '--output-dir', 'results/demo'\n",
    "    ], capture_output=True, text=True, check=True)\n",
    "    \n",
    "    duration = time.time() - start_time\n",
    "    print(f\"Completed in {duration:.1f} seconds ({duration/60:.1f} minutes)\")\n",
    "    \n",
    "except Exception as e:\n",
    "    print(f\"Failed: {e}\")"
   ]
  },
  {
   "cell_type": "markdown",
   "id": "db393f7c",
   "metadata": {},
   "source": [
    "### 4. Particle Swarm Optimization"
   ]
  },
  {
   "cell_type": "code",
   "execution_count": 12,
   "id": "e5868b1e",
   "metadata": {},
   "outputs": [
    {
     "name": "stdout",
     "output_type": "stream",
     "text": [
      "Running Particle Swarm Optimization on MNIST...\n",
      "Completed in 120.6 seconds (2.0 minutes)\n"
     ]
    }
   ],
   "source": [
    "# Run Particle Swarm Optimization on MNIST\n",
    "print(\"Running Particle Swarm Optimization on MNIST...\")\n",
    "start_time = time.time()\n",
    "\n",
    "try:\n",
    "    result = subprocess.run([\n",
    "        sys.executable, 'hpo_experiment.py',\n",
    "        '--algorithm', 'pso',\n",
    "        '--dataset', 'mnist',\n",
    "        '--runs', '1',\n",
    "        '--evaluations', '1',\n",
    "        '--epochs', '3',\n",
    "        '--output-dir', 'results/demo'\n",
    "    ], capture_output=True, text=True, check=True)\n",
    "    \n",
    "    duration = time.time() - start_time\n",
    "    print(f\"Completed in {duration:.1f} seconds ({duration/60:.1f} minutes)\")\n",
    "    \n",
    "except Exception as e:\n",
    "    print(f\"Failed: {e}\")"
   ]
  },
  {
   "cell_type": "markdown",
   "id": "e2b4db62",
   "metadata": {},
   "source": [
    "### 5. Differential Evolution"
   ]
  },
  {
   "cell_type": "code",
   "execution_count": 14,
   "id": "3687099b",
   "metadata": {},
   "outputs": [
    {
     "name": "stdout",
     "output_type": "stream",
     "text": [
      "Running Differential Evolution on MNIST...\n",
      "Completed in 128.6 seconds (2.1 minutes)\n"
     ]
    }
   ],
   "source": [
    "# Run Differential Evolution on MNIST\n",
    "print(\"Running Differential Evolution on MNIST...\")\n",
    "start_time = time.time()\n",
    "\n",
    "try:\n",
    "    result = subprocess.run([\n",
    "        sys.executable, 'hpo_experiment.py',\n",
    "        '--algorithm', 'de',\n",
    "        '--dataset', 'mnist',\n",
    "        '--runs', '1',\n",
    "        '--evaluations', '1',\n",
    "        '--epochs', '3',\n",
    "        '--output-dir', 'results/demo'\n",
    "    ], capture_output=True, text=True, check=True)\n",
    "    \n",
    "    duration = time.time() - start_time\n",
    "    print(f\"Completed in {duration:.1f} seconds ({duration/60:.1f} minutes)\")\n",
    "    \n",
    "except Exception as e:\n",
    "    print(f\"Failed: {e}\")"
   ]
  },
  {
   "cell_type": "markdown",
   "id": "59df72b1",
   "metadata": {},
   "source": [
    "## Run All Algorithms - CIFAR-10\n",
    "\n",
    "Quick demonstration on CIFAR-10 (optional - takes longer)"
   ]
  },
  {
   "cell_type": "markdown",
   "id": "70ae6cff",
   "metadata": {},
   "source": [
    "## Summary: Generated Files\n",
    "\n",
    "Use these files with comprehensive_analysis.ipynb"
   ]
  },
  {
   "cell_type": "code",
   "execution_count": 16,
   "id": "e05172de",
   "metadata": {},
   "outputs": [
    {
     "name": "stdout",
     "output_type": "stream",
     "text": [
      "\n",
      "Generated Demo Files:\n",
      "============================================================\n",
      "  DE       MNIST     97.11%  ->  de_mnist_20251026_215352.json\n",
      "  GA       MNIST     95.89%  ->  ga_mnist_20251026_214647.json\n",
      "  GRID     MNIST     94.95%  ->  grid_mnist_20251026_214322.json\n",
      "  PSO      MNIST     96.71%  ->  pso_mnist_20251026_214851.json\n",
      "  RANDOM   MNIST     96.06%  ->  random_mnist_20251026_214344.json\n",
      "\n",
      "📋 Copy this to comprehensive_analysis.ipynb:\n",
      "------------------------------------------------------------\n",
      "results_dir = Path('../results/demo')\n",
      "\n",
      "algorithm_files = {\n",
      "    'GRID': {\n",
      "        'mnist': 'grid_mnist_20251026_214322.json',\n",
      "        'cifar10': ''\n",
      "    },\n",
      "    'RANDOM': {\n",
      "        'mnist': 'random_mnist_20251026_214344.json',\n",
      "        'cifar10': ''\n",
      "    },\n",
      "    'GA': {\n",
      "        'mnist': 'ga_mnist_20251026_214647.json',\n",
      "        'cifar10': ''\n",
      "    },\n",
      "    'PSO': {\n",
      "        'mnist': 'pso_mnist_20251026_214851.json',\n",
      "        'cifar10': ''\n",
      "    },\n",
      "    'DE': {\n",
      "        'mnist': 'de_mnist_20251026_215352.json',\n",
      "        'cifar10': ''\n",
      "    },\n",
      "}\n"
     ]
    }
   ],
   "source": [
    "import json\n",
    "\n",
    "demo_dir = Path('results/demo')\n",
    "demo_files = sorted(demo_dir.glob('*.json'))\n",
    "\n",
    "print(\"\\nGenerated Demo Files:\")\n",
    "print(\"=\" * 60)\n",
    "\n",
    "# Build algorithm_files dictionary\n",
    "file_dict = {}\n",
    "for filepath in demo_files:\n",
    "    parts = filepath.stem.split('_')\n",
    "    algo = parts[0]\n",
    "    dataset = parts[1]\n",
    "    \n",
    "    if algo not in file_dict:\n",
    "        file_dict[algo] = {}\n",
    "    file_dict[algo][dataset] = filepath.name\n",
    "    \n",
    "    # Load and show quick stats\n",
    "    with open(filepath) as f:\n",
    "        data = json.load(f)\n",
    "    \n",
    "    runs = data['runs']\n",
    "    accuracies = [run['best_fitness'] for run in runs]\n",
    "    mean_acc = sum(accuracies) / len(accuracies)\n",
    "    \n",
    "    print(f\"  {algo.upper():<8} {dataset.upper():<8} {mean_acc:6.2f}%  ->  {filepath.name}\")\n",
    "\n",
    "print(f\"\\n📋 Copy this to comprehensive_analysis.ipynb:\")\n",
    "print(\"-\" * 60)\n",
    "print(\"results_dir = Path('../results/demo')\")\n",
    "print(\"\\nalgorithm_files = {\")\n",
    "for algo in ['grid', 'random', 'ga', 'pso', 'de']:\n",
    "    algo_name = algo.upper() if algo in ['grid', 'random'] else algo.upper()\n",
    "    if algo in file_dict:\n",
    "        mnist_file = file_dict[algo].get('mnist', '')\n",
    "        cifar10_file = file_dict[algo].get('cifar10', '')\n",
    "        print(f\"    '{algo_name}': {{\")\n",
    "        print(f\"        'mnist': '{mnist_file}',\")\n",
    "        print(f\"        'cifar10': '{cifar10_file}'\")\n",
    "        print(f\"    }},\")\n",
    "print(\"}\")"
   ]
  }
 ],
 "metadata": {
  "kernelspec": {
   "display_name": "venv",
   "language": "python",
   "name": "python3"
  },
  "language_info": {
   "codemirror_mode": {
    "name": "ipython",
    "version": 3
   },
   "file_extension": ".py",
   "mimetype": "text/x-python",
   "name": "python",
   "nbconvert_exporter": "python",
   "pygments_lexer": "ipython3",
   "version": "3.11.11"
  }
 },
 "nbformat": 4,
 "nbformat_minor": 5
}
