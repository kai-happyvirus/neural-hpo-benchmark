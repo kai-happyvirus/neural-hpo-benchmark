{
 "cells": [
  {
   "cell_type": "markdown",
   "id": "940193d2",
   "metadata": {},
   "source": [
    "# Video Demo: Quick Experiment Runner\n",
    "\n",
    "Run actual algorithms with reduced parameters for fast demonstration"
   ]
  },
  {
   "cell_type": "code",
   "execution_count": null,
   "id": "f7afd30a",
   "metadata": {},
   "outputs": [
    {
     "name": "stdout",
     "output_type": "stream",
     "text": [
      "Working directory: /Users/kaicho/Projects/COMP815_NIP/Project_Report\n",
      "Demo results directory: results/demo\n",
      "✓ Found hpo_experiment.py\n"
     ]
    }
   ],
   "source": [
    "import subprocess\n",
    "import sys\n",
    "import os\n",
    "import time\n",
    "from pathlib import Path\n",
    "\n",
    "# Change to project root (parent of notebooks)\n",
    "notebook_dir = Path.cwd()\n",
    "if notebook_dir.name == 'notebooks':\n",
    "    os.chdir('..')\n",
    "\n",
    "print(f\"Working directory: {os.getcwd()}\")\n",
    "\n",
    "# Ensure demo results directory exists\n",
    "DEMO_OUTPUT_DIR = Path('results/demo')\n",
    "DEMO_OUTPUT_DIR.mkdir(parents=True, exist_ok=True)\n",
    "print(f\"Demo results directory: {DEMO_OUTPUT_DIR}\")\n",
    "\n",
    "# Verify hpo_experiment.py exists\n",
    "if not Path('hpo_experiment.py').exists():\n",
    "    print(\"ERROR: hpo_experiment.py not found!\")\n",
    "else:\n",
    "    print(\"Found hpo_experiment.py\")\n",
    "\n",
    "def run_quick_demo(algorithm, dataset):\n",
    "    \"\"\"Execute a lightweight demo run for a given algorithm and dataset.\"\"\"\n",
    "    print(f\"\\nRunning {algorithm.upper()} on {dataset.upper()}...\")\n",
    "    start_time = time.time()\n",
    "    try:\n",
    "        result = subprocess.run([\n",
    "            sys.executable, 'hpo_experiment.py',\n",
    "            '--algorithm', algorithm,\n",
    "            '--dataset', dataset,\n",
    "            '--runs', '1',\n",
    "            '--evaluations', '1',\n",
    "            '--epochs', '3',\n",
    "            '--output-dir', 'results/demo'\n",
    "        ], capture_output=True, text=True, check=True)\n",
    "        duration = time.time() - start_time\n",
    "        print(f\"Completed in {duration:.1f} seconds ({duration/60:.1f} minutes)\")\n",
    "        if result.stdout.strip():\n",
    "            print(result.stdout.strip().splitlines()[-1])\n",
    "    except subprocess.CalledProcessError as exc:\n",
    "        print(f\"Failed with return code {exc.returncode}\")\n",
    "        if exc.stderr:\n",
    "            print(exc.stderr)\n",
    "    except Exception as exc:\n",
    "        print(f\"Unexpected error: {exc}\")"
   ]
  },
  {
   "cell_type": "markdown",
   "id": "ea450a3c",
   "metadata": {},
   "source": [
    "## Run Quick Experiments\n",
    "\n",
    "Ultra-fast parameters for demo specific:\n",
    "- Runs: 1 (single run only)\n",
    "- Evaluations: 1 (one test only)\n",
    "- Epochs: 3 (minimal training)\n",
    "- Results saved to: results/demo/"
   ]
  },
  {
   "cell_type": "markdown",
   "id": "82eccf50",
   "metadata": {},
   "source": [
    "## Run All Algorithms - MNIST\n",
    "\n",
    "Quick demonstration on MNIST (simpler dataset, faster training)"
   ]
  },
  {
   "cell_type": "markdown",
   "id": "2a852fc2",
   "metadata": {},
   "source": [
    "### 1. Grid Search"
   ]
  },
  {
   "cell_type": "code",
   "execution_count": null,
   "id": "92141340",
   "metadata": {},
   "outputs": [
    {
     "name": "stdout",
     "output_type": "stream",
     "text": [
      "Running Grid Search on MNIST...\n",
      "Completed in 15.8 seconds (0.3 minutes)\n"
     ]
    }
   ],
   "source": [
    "# Run Grid Search demo runs\n",
    "for dataset in ['mnist', 'cifar10']:\n",
    "    run_quick_demo('grid', dataset)"
   ]
  },
  {
   "cell_type": "markdown",
   "id": "b96fc4e3",
   "metadata": {},
   "source": [
    "### 2. Random Search"
   ]
  },
  {
   "cell_type": "code",
   "execution_count": null,
   "id": "1ddcf40e",
   "metadata": {},
   "outputs": [
    {
     "name": "stdout",
     "output_type": "stream",
     "text": [
      "Running Random Search on MNIST...\n",
      "Completed in 21.8 seconds (0.4 minutes)\n"
     ]
    }
   ],
   "source": [
    "# Run Random Search demo runs\n",
    "for dataset in ['mnist', 'cifar10']:\n",
    "    run_quick_demo('random', dataset)"
   ]
  },
  {
   "cell_type": "markdown",
   "id": "00549d4e",
   "metadata": {},
   "source": [
    "### 3. Genetic Algorithm"
   ]
  },
  {
   "cell_type": "code",
   "execution_count": null,
   "id": "2753591c",
   "metadata": {},
   "outputs": [
    {
     "name": "stdout",
     "output_type": "stream",
     "text": [
      "Running Genetic Algorithm on MNIST...\n",
      "Completed in 66.4 seconds (1.1 minutes)\n",
      "Completed in 66.4 seconds (1.1 minutes)\n"
     ]
    }
   ],
   "source": [
    "# Run Genetic Algorithm demo runs\n",
    "for dataset in ['mnist', 'cifar10']:\n",
    "    run_quick_demo('ga', dataset)"
   ]
  },
  {
   "cell_type": "markdown",
   "id": "db393f7c",
   "metadata": {},
   "source": [
    "### 4. Particle Swarm Optimization"
   ]
  },
  {
   "cell_type": "code",
   "execution_count": 12,
   "id": "e5868b1e",
   "metadata": {},
   "outputs": [
    {
     "name": "stdout",
     "output_type": "stream",
     "text": [
      "Running Particle Swarm Optimization on MNIST...\n",
      "Completed in 120.6 seconds (2.0 minutes)\n"
     ]
    }
   ],
   "source": [
    "# Run Particle Swarm Optimization on MNIST\n",
    "print(\"Running Particle Swarm Optimization on MNIST...\")\n",
    "start_time = time.time()\n",
    "\n",
    "try:\n",
    "    result = subprocess.run([\n",
    "        sys.executable, 'hpo_experiment.py',\n",
    "        '--algorithm', 'pso',\n",
    "        '--dataset', 'mnist',\n",
    "        '--runs', '1',\n",
    "        '--evaluations', '1',\n",
    "        '--epochs', '3',\n",
    "        '--output-dir', 'results/demo'\n",
    "    ], capture_output=True, text=True, check=True)\n",
    "    \n",
    "    duration = time.time() - start_time\n",
    "    print(f\"Completed in {duration:.1f} seconds ({duration/60:.1f} minutes)\")\n",
    "    \n",
    "except Exception as e:\n",
    "    print(f\"Failed: {e}\")"
   ]
  },
  {
   "cell_type": "markdown",
   "id": "e2b4db62",
   "metadata": {},
   "source": [
    "### 5. Differential Evolution"
   ]
  },
  {
   "cell_type": "code",
   "execution_count": 14,
   "id": "3687099b",
   "metadata": {},
   "outputs": [
    {
     "name": "stdout",
     "output_type": "stream",
     "text": [
      "Running Differential Evolution on MNIST...\n",
      "Completed in 128.6 seconds (2.1 minutes)\n"
     ]
    }
   ],
   "source": [
    "# Run Differential Evolution on MNIST\n",
    "print(\"Running Differential Evolution on MNIST...\")\n",
    "start_time = time.time()\n",
    "\n",
    "try:\n",
    "    result = subprocess.run([\n",
    "        sys.executable, 'hpo_experiment.py',\n",
    "        '--algorithm', 'de',\n",
    "        '--dataset', 'mnist',\n",
    "        '--runs', '1',\n",
    "        '--evaluations', '1',\n",
    "        '--epochs', '3',\n",
    "        '--output-dir', 'results/demo'\n",
    "    ], capture_output=True, text=True, check=True)\n",
    "    \n",
    "    duration = time.time() - start_time\n",
    "    print(f\"Completed in {duration:.1f} seconds ({duration/60:.1f} minutes)\")\n",
    "    \n",
    "except Exception as e:\n",
    "    print(f\"Failed: {e}\")"
   ]
  },
  {
   "cell_type": "markdown",
   "id": "6b90699e",
   "metadata": {},
   "source": [
    "## Run All Algorithms - CIFAR-10\n",
    "\n",
    "Sequential demo runs on CIFAR-10 using the same lightweight settings as MNIST."
   ]
  },
  {
   "cell_type": "markdown",
   "id": "4dbfe546",
   "metadata": {},
   "source": [
    "### 1. Grid Search (CIFAR-10)"
   ]
  },
  {
   "cell_type": "code",
   "execution_count": null,
   "id": "9012fd7c",
   "metadata": {},
   "outputs": [],
   "source": [
    "# Run Grid Search on CIFAR-10\n",
    "print(\"Running Grid Search on CIFAR-10...\")\n",
    "start_time = time.time()\n",
    "\n",
    "try:\n",
    "    result = subprocess.run([\n",
    "        sys.executable, 'hpo_experiment.py',\n",
    "        '--algorithm', 'grid',\n",
    "        '--dataset', 'cifar10',\n",
    "        '--runs', '1',\n",
    "        '--evaluations', '1',\n",
    "        '--epochs', '3',\n",
    "        '--output-dir', 'results/demo'\n",
    "    ], capture_output=True, text=True, check=True)\n",
    "    \n",
    "    duration = time.time() - start_time\n",
    "    print(f\"Completed in {duration:.1f} seconds ({duration/60:.1f} minutes)\")\n",
    "    \n",
    "except Exception as e:\n",
    "    print(f\"Failed: {e}\")"
   ]
  },
  {
   "cell_type": "markdown",
   "id": "1e795635",
   "metadata": {},
   "source": [
    "### 2. Random Search (CIFAR-10)"
   ]
  },
  {
   "cell_type": "code",
   "execution_count": null,
   "id": "fac6e35a",
   "metadata": {},
   "outputs": [],
   "source": [
    "# Run Random Search on CIFAR-10\n",
    "print(\"Running Random Search on CIFAR-10...\")\n",
    "start_time = time.time()\n",
    "\n",
    "try:\n",
    "    result = subprocess.run([\n",
    "        sys.executable, 'hpo_experiment.py',\n",
    "        '--algorithm', 'random',\n",
    "        '--dataset', 'cifar10',\n",
    "        '--runs', '1',\n",
    "        '--evaluations', '1',\n",
    "        '--epochs', '3',\n",
    "        '--output-dir', 'results/demo'\n",
    "    ], capture_output=True, text=True, check=True)\n",
    "    \n",
    "    duration = time.time() - start_time\n",
    "    print(f\"Completed in {duration:.1f} seconds ({duration/60:.1f} minutes)\")\n",
    "    \n",
    "except Exception as e:\n",
    "    print(f\"Failed: {e}\")"
   ]
  },
  {
   "cell_type": "markdown",
   "id": "4aab5bc0",
   "metadata": {},
   "source": [
    "### 3. Genetic Algorithm (CIFAR-10)"
   ]
  },
  {
   "cell_type": "code",
   "execution_count": null,
   "id": "9b97fd0b",
   "metadata": {},
   "outputs": [],
   "source": [
    "# Run Genetic Algorithm on CIFAR-10\n",
    "print(\"Running Genetic Algorithm on CIFAR-10...\")\n",
    "start_time = time.time()\n",
    "\n",
    "try:\n",
    "    result = subprocess.run([\n",
    "        sys.executable, 'hpo_experiment.py',\n",
    "        '--algorithm', 'ga',\n",
    "        '--dataset', 'cifar10',\n",
    "        '--runs', '1',\n",
    "        '--evaluations', '1',\n",
    "        '--epochs', '3',\n",
    "        '--output-dir', 'results/demo'\n",
    "    ], capture_output=True, text=True, check=True)\n",
    "    \n",
    "    duration = time.time() - start_time\n",
    "    print(f\"Completed in {duration:.1f} seconds ({duration/60:.1f} minutes)\")\n",
    "    \n",
    "except Exception as e:\n",
    "    print(f\"Failed: {e}\")"
   ]
  },
  {
   "cell_type": "markdown",
   "id": "e8d52b8c",
   "metadata": {},
   "source": [
    "### 4. Particle Swarm Optimization (CIFAR-10)"
   ]
  },
  {
   "cell_type": "code",
   "execution_count": null,
   "id": "38ef47b8",
   "metadata": {},
   "outputs": [],
   "source": [
    "# Run Particle Swarm Optimization on CIFAR-10\n",
    "print(\"Running Particle Swarm Optimization on CIFAR-10...\")\n",
    "start_time = time.time()\n",
    "\n",
    "try:\n",
    "    result = subprocess.run([\n",
    "        sys.executable, 'hpo_experiment.py',\n",
    "        '--algorithm', 'pso',\n",
    "        '--dataset', 'cifar10',\n",
    "        '--runs', '1',\n",
    "        '--evaluations', '1',\n",
    "        '--epochs', '3',\n",
    "        '--output-dir', 'results/demo'\n",
    "    ], capture_output=True, text=True, check=True)\n",
    "    \n",
    "    duration = time.time() - start_time\n",
    "    print(f\"Completed in {duration:.1f} seconds ({duration/60:.1f} minutes)\")\n",
    "    \n",
    "except Exception as e:\n",
    "    print(f\"Failed: {e}\")"
   ]
  },
  {
   "cell_type": "markdown",
   "id": "25efc9b9",
   "metadata": {},
   "source": [
    "### 5. Differential Evolution (CIFAR-10)"
   ]
  },
  {
   "cell_type": "code",
   "execution_count": null,
   "id": "ed1493f5",
   "metadata": {},
   "outputs": [],
   "source": [
    "# Run Differential Evolution on CIFAR-10\n",
    "print(\"Running Differential Evolution on CIFAR-10...\")\n",
    "start_time = time.time()\n",
    "\n",
    "try:\n",
    "    result = subprocess.run([\n",
    "        sys.executable, 'hpo_experiment.py',\n",
    "        '--algorithm', 'de',\n",
    "        '--dataset', 'cifar10',\n",
    "        '--runs', '1',\n",
    "        '--evaluations', '1',\n",
    "        '--epochs', '3',\n",
    "        '--output-dir', 'results/demo'\n",
    "    ], capture_output=True, text=True, check=True)\n",
    "    \n",
    "    duration = time.time() - start_time\n",
    "    print(f\"Completed in {duration:.1f} seconds ({duration/60:.1f} minutes)\")\n",
    "    \n",
    "except Exception as e:\n",
    "    print(f\"Failed: {e}\")"
   ]
  }
 ],
 "metadata": {
  "kernelspec": {
   "display_name": "venv",
   "language": "python",
   "name": "python3"
  },
  "language_info": {
   "codemirror_mode": {
    "name": "ipython",
    "version": 3
   },
   "file_extension": ".py",
   "mimetype": "text/x-python",
   "name": "python",
   "nbconvert_exporter": "python",
   "pygments_lexer": "ipython3",
   "version": "3.11.11"
  }
 },
 "nbformat": 4,
 "nbformat_minor": 5
}
