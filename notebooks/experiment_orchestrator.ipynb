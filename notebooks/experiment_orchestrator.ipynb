{
 "cells": [
  {
   "cell_type": "markdown",
   "id": "9ac32442",
   "metadata": {},
   "source": [
    "# Hyperparameter Optimization Experiment Runner\n",
    "\n",
    "**Main execution notebook for generating all experimental results**\n",
    "\n",
    "This notebook coordinates the execution of all hyperparameter optimization experiments by:\n",
    "1. Installing required dependencies\n",
    "2. Running all algorithm combinations (5 algorithms × 2 datasets = 10 experiments)\n",
    "3. Monitoring progress and results\n",
    "\n",
    "**Experiments to run:**\n",
    "- **MNIST**: Grid, Random, GA, DE, PSO (5 experiments)  \n",
    "- **CIFAR-10**: Grid, Random, GA, DE, PSO (5 experiments)\n",
    "- **Total**: 10 experiments, each with 3 runs\n",
    "\n",
    "**Estimated time:** 8-16 hours total (can run in parallel)"
   ]
  },
  {
   "cell_type": "markdown",
   "id": "a387566e",
   "metadata": {},
   "source": [
    "## Step 1: Environment Setup and Dependency Installation"
   ]
  },
  {
   "cell_type": "code",
   "execution_count": null,
   "id": "8b388ee1",
   "metadata": {},
   "outputs": [],
   "source": [
    "import subprocess\n",
    "import sys\n",
    "import os\n",
    "from pathlib import Path\n",
    "import time\n",
    "\n",
    "# Change to parent directory \n",
    "os.chdir('..')\n",
    "print(f\"Working directory: {os.getcwd()}\")\n",
    "\n",
    "# Check files exist\n",
    "if Path('requirements.txt').exists():\n",
    "    print(\"Found requirements.txt\")\n",
    "else:\n",
    "    print(\"ERROR: requirements.txt not found!\")\n",
    "    \n",
    "if Path('hpo_experiment.py').exists():\n",
    "    print(\"Found hpo_experiment.py\")\n",
    "else:\n",
    "    print(\"ERROR: hpo_experiment.py not found!\")"
   ]
  },
  {
   "cell_type": "markdown",
   "id": "373d9477",
   "metadata": {},
   "source": [
    "### Install Dependencies"
   ]
  },
  {
   "cell_type": "code",
   "execution_count": null,
   "id": "344bf39b",
   "metadata": {},
   "outputs": [],
   "source": [
    "# Install dependencies\n",
    "print(\"Installing dependencies...\")\n",
    "\n",
    "try:\n",
    "    result = subprocess.run([\n",
    "        sys.executable, '-m', 'pip', 'install', '-r', 'requirements.txt'\n",
    "    ], capture_output=True, text=True, check=True)\n",
    "    \n",
    "    print(\"Dependencies installed successfully!\")\n",
    "    \n",
    "except Exception as e:\n",
    "    print(f\"Installation failed: {e}\")\n",
    "\n",
    "# Test imports\n",
    "print(\"Testing imports...\")\n",
    "try:\n",
    "    import torch\n",
    "    import torchvision\n",
    "    import numpy as np\n",
    "    import matplotlib.pyplot as plt\n",
    "    import pandas as pd\n",
    "    import seaborn as sns\n",
    "    print(\"All imports successful!\")\n",
    "    \n",
    "except ImportError as e:\n",
    "    print(f\"Import failed: {e}\")"
   ]
  },
  {
   "cell_type": "markdown",
   "id": "5a72a60a",
   "metadata": {},
   "source": [
    "## Step 2: Run Experiments\n",
    "\n",
    "Execute all experiments one by one. Each cell runs one algorithm on both datasets."
   ]
  },
  {
   "cell_type": "markdown",
   "id": "3d46f873",
   "metadata": {},
   "source": [
    "### 1. Grid Search"
   ]
  },
  {
   "cell_type": "code",
   "execution_count": null,
   "id": "af99266a",
   "metadata": {},
   "outputs": [],
   "source": [
    "# Run Grid Search on MNIST\n",
    "print(\"Running Grid Search on MNIST...\")\n",
    "start_time = time.time()\n",
    "\n",
    "try:\n",
    "    result = subprocess.run([\n",
    "        sys.executable, 'hpo_experiment.py',\n",
    "        '--algorithm', 'grid',\n",
    "        '--dataset', 'mnist'\n",
    "    ], capture_output=True, text=True, check=True)\n",
    "    \n",
    "    duration = time.time() - start_time\n",
    "    print(f\"Completed in {duration/60:.1f} minutes\")\n",
    "    \n",
    "except Exception as e:\n",
    "    print(f\"Failed: {e}\")"
   ]
  },
  {
   "cell_type": "code",
   "execution_count": null,
   "id": "798cf63e",
   "metadata": {},
   "outputs": [],
   "source": [
    "# Run Grid Search on CIFAR-10\n",
    "print(\"Running Grid Search on CIFAR-10...\")\n",
    "start_time = time.time()\n",
    "\n",
    "try:\n",
    "    result = subprocess.run([\n",
    "        sys.executable, 'hpo_experiment.py',\n",
    "        '--algorithm', 'grid',\n",
    "        '--dataset', 'cifar10'\n",
    "    ], capture_output=True, text=True, check=True)\n",
    "    \n",
    "    duration = time.time() - start_time\n",
    "    print(f\"Completed in {duration/60:.1f} minutes\")\n",
    "    \n",
    "except Exception as e:\n",
    "    print(f\"Failed: {e}\")"
   ]
  },
  {
   "cell_type": "markdown",
   "id": "04ebd047",
   "metadata": {},
   "source": [
    "### 2. Random Search"
   ]
  },
  {
   "cell_type": "code",
   "execution_count": null,
   "id": "09eb582a",
   "metadata": {},
   "outputs": [],
   "source": [
    "# Run Random Search on MNIST\n",
    "print(\"Running Random Search on MNIST...\")\n",
    "start_time = time.time()\n",
    "\n",
    "try:\n",
    "    result = subprocess.run([\n",
    "        sys.executable, 'hpo_experiment.py',\n",
    "        '--algorithm', 'random',\n",
    "        '--dataset', 'mnist'\n",
    "    ], capture_output=True, text=True, check=True)\n",
    "    \n",
    "    duration = time.time() - start_time\n",
    "    print(f\"Completed in {duration/60:.1f} minutes\")\n",
    "    \n",
    "except Exception as e:\n",
    "    print(f\"Failed: {e}\")"
   ]
  },
  {
   "cell_type": "code",
   "execution_count": null,
   "id": "c38aee4e",
   "metadata": {},
   "outputs": [],
   "source": [
    "# Run Random Search on CIFAR-10\n",
    "print(\"Running Random Search on CIFAR-10...\")\n",
    "start_time = time.time()\n",
    "\n",
    "try:\n",
    "    result = subprocess.run([\n",
    "        sys.executable, 'hpo_experiment.py',\n",
    "        '--algorithm', 'random',\n",
    "        '--dataset', 'cifar10'\n",
    "    ], capture_output=True, text=True, check=True)\n",
    "    \n",
    "    duration = time.time() - start_time\n",
    "    print(f\"Completed in {duration/60:.1f} minutes\")\n",
    "    \n",
    "except Exception as e:\n",
    "    print(f\"Failed: {e}\")"
   ]
  },
  {
   "cell_type": "markdown",
   "id": "49411f70",
   "metadata": {},
   "source": [
    "### 3. Genetic Algorithm"
   ]
  },
  {
   "cell_type": "code",
   "execution_count": null,
   "id": "c434d0e8",
   "metadata": {},
   "outputs": [],
   "source": [
    "# Run Genetic Algorithm on MNIST\n",
    "print(\"Running Genetic Algorithm on MNIST...\")\n",
    "start_time = time.time()\n",
    "\n",
    "try:\n",
    "    result = subprocess.run([\n",
    "        sys.executable, 'hpo_experiment.py',\n",
    "        '--algorithm', 'ga',\n",
    "        '--dataset', 'mnist'\n",
    "    ], capture_output=True, text=True, check=True)\n",
    "    \n",
    "    duration = time.time() - start_time\n",
    "    print(f\"Completed in {duration/60:.1f} minutes\")\n",
    "    \n",
    "except Exception as e:\n",
    "    print(f\"Failed: {e}\")"
   ]
  },
  {
   "cell_type": "code",
   "execution_count": null,
   "id": "26a2b6a8",
   "metadata": {},
   "outputs": [],
   "source": [
    "# Run Genetic Algorithm on CIFAR-10\n",
    "print(\"Running Genetic Algorithm on CIFAR-10...\")\n",
    "start_time = time.time()\n",
    "\n",
    "try:\n",
    "    result = subprocess.run([\n",
    "        sys.executable, 'hpo_experiment.py',\n",
    "        '--algorithm', 'ga',\n",
    "        '--dataset', 'cifar10'\n",
    "    ], capture_output=True, text=True, check=True)\n",
    "    \n",
    "    duration = time.time() - start_time\n",
    "    print(f\"Completed in {duration/60:.1f} minutes\")\n",
    "    \n",
    "except Exception as e:\n",
    "    print(f\"Failed: {e}\")"
   ]
  },
  {
   "cell_type": "markdown",
   "id": "43fd70b9",
   "metadata": {},
   "source": [
    "### 4. Particle Swarm Optimization"
   ]
  },
  {
   "cell_type": "code",
   "execution_count": null,
   "id": "c7ee3315",
   "metadata": {},
   "outputs": [],
   "source": [
    "# Run Particle Swarm Optimization on MNIST\n",
    "print(\"Running Particle Swarm Optimization on MNIST...\")\n",
    "start_time = time.time()\n",
    "\n",
    "try:\n",
    "    result = subprocess.run([\n",
    "        sys.executable, 'hpo_experiment.py',\n",
    "        '--algorithm', 'pso',\n",
    "        '--dataset', 'mnist'\n",
    "    ], capture_output=True, text=True, check=True)\n",
    "    \n",
    "    duration = time.time() - start_time\n",
    "    print(f\"Completed in {duration/60:.1f} minutes\")\n",
    "    \n",
    "except Exception as e:\n",
    "    print(f\"Failed: {e}\")"
   ]
  },
  {
   "cell_type": "code",
   "execution_count": null,
   "id": "555cd585",
   "metadata": {},
   "outputs": [],
   "source": [
    "# Run Particle Swarm Optimization on CIFAR-10\n",
    "print(\"Running Particle Swarm Optimization on CIFAR-10...\")\n",
    "start_time = time.time()\n",
    "\n",
    "try:\n",
    "    result = subprocess.run([\n",
    "        sys.executable, 'hpo_experiment.py',\n",
    "        '--algorithm', 'pso',\n",
    "        '--dataset', 'cifar10'\n",
    "    ], capture_output=True, text=True, check=True)\n",
    "    \n",
    "    duration = time.time() - start_time\n",
    "    print(f\"Completed in {duration/60:.1f} minutes\")\n",
    "    \n",
    "except Exception as e:\n",
    "    print(f\"Failed: {e}\")"
   ]
  },
  {
   "cell_type": "markdown",
   "id": "f31fbdeb",
   "metadata": {},
   "source": [
    "### 5. Differential Evolution"
   ]
  },
  {
   "cell_type": "code",
   "execution_count": null,
   "id": "70ebba36",
   "metadata": {},
   "outputs": [],
   "source": [
    "# Run Differential Evolution on MNIST\n",
    "print(\"Running Differential Evolution on MNIST...\")\n",
    "start_time = time.time()\n",
    "\n",
    "try:\n",
    "    result = subprocess.run([\n",
    "        sys.executable, 'hpo_experiment.py',\n",
    "        '--algorithm', 'de',\n",
    "        '--dataset', 'mnist'\n",
    "    ], capture_output=True, text=True, check=True)\n",
    "    \n",
    "    duration = time.time() - start_time\n",
    "    print(f\"Completed in {duration/60:.1f} minutes\")\n",
    "    \n",
    "except Exception as e:\n",
    "    print(f\"Failed: {e}\")"
   ]
  },
  {
   "cell_type": "code",
   "execution_count": null,
   "id": "a5fe6ac8",
   "metadata": {},
   "outputs": [],
   "source": [
    "# Run Differential Evolution on CIFAR-10\n",
    "print(\"Running Differential Evolution on CIFAR-10...\")\n",
    "start_time = time.time()\n",
    "\n",
    "try:\n",
    "    result = subprocess.run([\n",
    "        sys.executable, 'hpo_experiment.py',\n",
    "        '--algorithm', 'de',\n",
    "        '--dataset', 'cifar10'\n",
    "    ], capture_output=True, text=True, check=True)\n",
    "    \n",
    "    duration = time.time() - start_time\n",
    "    print(f\"Completed in {duration/60:.1f} minutes\")\n",
    "    \n",
    "except Exception as e:\n",
    "    print(f\"Failed: {e}\")"
   ]
  },
  {
   "cell_type": "markdown",
   "id": "3ebb7eb8",
   "metadata": {},
   "source": [
    "## Next Steps\n",
    "\n",
    "Once all experiments are completed:\n",
    "\n",
    "1. **Check Results**: Look in the `results/` directory for JSON files (should have 10 files total)\n",
    "\n",
    "2. **Comprehensive Analysis**: Open and run `comprehensive_analysis.ipynb` for detailed statistical analysis and visualizations\n",
    "\n",
    "3. **Video Demo**: Use `video_demo.ipynb` to demonstrate your code for video recording"
   ]
  }
 ],
 "metadata": {
  "kernelspec": {
   "display_name": "venv",
   "language": "python",
   "name": "python3"
  },
  "language_info": {
   "codemirror_mode": {
    "name": "ipython",
    "version": 3
   },
   "file_extension": ".py",
   "mimetype": "text/x-python",
   "name": "python",
   "nbconvert_exporter": "python",
   "pygments_lexer": "ipython3",
   "version": "3.11.11"
  }
 },
 "nbformat": 4,
 "nbformat_minor": 5
}
